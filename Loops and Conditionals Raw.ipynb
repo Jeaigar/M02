{
 "cells": [
  {
   "cell_type": "code",
   "execution_count": null,
   "id": "fd36bee8-efc3-4206-8a46-90bbbad4ac05",
   "metadata": {},
   "outputs": [],
   "source": [
    "# 4.1\n",
    "secret = 7  # Choose a number between 1 and 10\n",
    "\n",
    "# Ask the user to input a number\n",
    "guess = int(input(\"Guess a number between 1 and 10: \"))\n",
    "\n",
    "if guess < secret:\n",
    "    print('too low')\n",
    "elif guess > secret:\n",
    "    print('too high')\n",
    "else:\n",
    "    print('just right')"
   ]
  },
  {
   "cell_type": "code",
   "execution_count": null,
   "id": "bea9c6e8-3045-458a-b883-57e44c9aecc6",
   "metadata": {},
   "outputs": [],
   "source": [
    "# 4.2\n",
    "choices = ['pea', 'watermelon', 'cherry', 'pumpkin']\n",
    "\n",
    "for choice in choices:\n",
    "    print(f\"True or False: A {choice} is small and green.\")\n",
    "    answer = input(\"Your answer (True/False): \")\n",
    "\n",
    "    if choice == 'pea' and answer.lower() == 'true':\n",
    "        print(\"Correct!\")\n",
    "    elif choice != 'pea' and answer.lower() == 'false':\n",
    "        print(\"Correct!\")\n",
    "    else:\n",
    "        print(\"Sorry, that's incorrect.\")"
   ]
  },
  {
   "cell_type": "code",
   "execution_count": null,
   "id": "dd4c7408-7291-4764-a532-023182cbcbd0",
   "metadata": {},
   "outputs": [],
   "source": [
    "# 6.1\n",
    "\n",
    "# Define the list\n",
    "my_list = [3, 2, 1, 0]\n",
    "\n",
    "# Use a for loop to print the values\n",
    "for value in my_list:\n",
    "    print(value)\n"
   ]
  },
  {
   "cell_type": "code",
   "execution_count": null,
   "id": "f624f15f-ebca-4a00-a594-86820a78965f",
   "metadata": {},
   "outputs": [],
   "source": [
    "# 6.2\n",
    "\n",
    "import random\n",
    "import time\n",
    "\n",
    "# Assign the value to the variable\n",
    "guess_me = 7\n",
    "number = 1\n",
    "\n",
    "# Start the while loop\n",
    "while True:\n",
    "    number = random.choices([7, 1, 2, 3, 4, 5, 6], weights=[80, 4, 4, 4, 4, 4, 4], k=1)[0]\n",
    "    print(f'Current number: {number}')\n",
    "    if number < guess_me:\n",
    "        print('too low')\n",
    "    elif number == guess_me:\n",
    "        print('found it!')\n",
    "        break\n",
    "    else:\n",
    "        print('oops')\n",
    "        break\n",
    "    time.sleep(1)  # Pause for 1 second"
   ]
  },
  {
   "cell_type": "code",
   "execution_count": null,
   "id": "2451b6f2-4736-4d17-8f0a-7c2704f9dc02",
   "metadata": {},
   "outputs": [],
   "source": [
    "# 6.3\n",
    "\n",
    "import random\n",
    "\n",
    "# Assign the value to the variable\n",
    "guess_me = 5\n",
    "\n",
    "# Create a list with a 40% chance for 5 and 60% chance for numbers from 0 to 9 (excluding 5)\n",
    "numbers = [5]*40 + [i for i in range(10) if i != 5]*60\n",
    "\n",
    "# Use a for loop to iterate over a random sample\n",
    "for number in random.sample(numbers, 10):\n",
    "    print(f'Current number: {number}')\n",
    "    if number < guess_me:\n",
    "        print('too low')\n",
    "    elif number == guess_me:\n",
    "        print('found it!')\n",
    "        break\n",
    "    else:\n",
    "        print('oops')\n",
    "        break"
   ]
  }
 ],
 "metadata": {
  "kernelspec": {
   "display_name": "Python 3 (ipykernel)",
   "language": "python",
   "name": "python3"
  },
  "language_info": {
   "codemirror_mode": {
    "name": "ipython",
    "version": 3
   },
   "file_extension": ".py",
   "mimetype": "text/x-python",
   "name": "python",
   "nbconvert_exporter": "python",
   "pygments_lexer": "ipython3",
   "version": "3.12.1"
  }
 },
 "nbformat": 4,
 "nbformat_minor": 5
}
